{
 "cells": [
  {
   "cell_type": "code",
   "execution_count": 1,
   "metadata": {},
   "outputs": [
    {
     "data": {
      "text/html": [
       "\n",
       "            <div>\n",
       "                <p><b>SparkSession - in-memory</b></p>\n",
       "                \n",
       "        <div>\n",
       "            <p><b>SparkContext</b></p>\n",
       "\n",
       "            <p><a href=\"http://kubernetes.docker.internal:4040\">Spark UI</a></p>\n",
       "\n",
       "            <dl>\n",
       "              <dt>Version</dt>\n",
       "                <dd><code>v3.5.0</code></dd>\n",
       "              <dt>Master</dt>\n",
       "                <dd><code>local[*]</code></dd>\n",
       "              <dt>AppName</dt>\n",
       "                <dd><code>ALS</code></dd>\n",
       "            </dl>\n",
       "        </div>\n",
       "        \n",
       "            </div>\n",
       "        "
      ],
      "text/plain": [
       "<pyspark.sql.session.SparkSession at 0x17bee4380a0>"
      ]
     },
     "execution_count": 1,
     "metadata": {},
     "output_type": "execute_result"
    }
   ],
   "source": [
    "import findspark\n",
    "findspark.init('D:\\Hadoop_Ecosystem\\spark-3.5.0-bin-hadoop3')\n",
    "\n",
    "from pyspark import SparkContext\n",
    "from pyspark.sql import SparkSession\n",
    "\n",
    "sc = SparkContext(appName=\"ALS\").getOrCreate()\n",
    "sc.setLogLevel(\"ERROR\")\n",
    "\n",
    "ss = SparkSession(sc)\n",
    "ss"
   ]
  },
  {
   "cell_type": "code",
   "execution_count": 2,
   "metadata": {},
   "outputs": [
    {
     "data": {
      "text/plain": [
       "33387"
      ]
     },
     "execution_count": 2,
     "metadata": {},
     "output_type": "execute_result"
    }
   ],
   "source": [
    "df_beer = ss.read.csv('beer_reviews.csv',inferSchema=True,header=True)\n",
    "df_beer = df_beer.select([\n",
    "    'beer_beerid', \n",
    "    'review_taste', \n",
    "    'review_appearance', \n",
    "    'review_palate', \n",
    "    'review_aroma', \n",
    "    'review_overall', \n",
    "    'review_profilename'\n",
    "])\n",
    "df_beer = df_beer.withColumnRenamed('beer_beerid', 'beer_id')\n",
    "df_beer = df_beer.withColumnRenamed('review_profilename', 'user_id')\n",
    "df_beer = df_beer.dropna()\n",
    "\n",
    "#convert to pandas dataframe\n",
    "df_beer = df_beer.toPandas()\n",
    "df_beer['user_id'] = df_beer['user_id'].astype('category').cat.codes #each username is converted to a unique number\n",
    "\n",
    "#convert back to spark dataframe\n",
    "df_beer = ss.createDataFrame(df_beer)\n",
    "df_beer.select('user_id').distinct().count()"
   ]
  },
  {
   "cell_type": "code",
   "execution_count": 3,
   "metadata": {},
   "outputs": [],
   "source": [
    "(training, test) = df_beer.randomSplit([0.8, 0.2])"
   ]
  },
  {
   "cell_type": "code",
   "execution_count": 4,
   "metadata": {},
   "outputs": [
    {
     "name": "stdout",
     "output_type": "stream",
     "text": [
      "+-------+-------+-----------------------+--------------------+----------------------------+------------------------+-----------------------+-------------------------+-----------------------+\n",
      "|user_id|beer_id|prediction_review_taste|init_combined_rating|prediction_review_appearance|prediction_review_palate|prediction_review_aroma|prediction_review_overall|predict_combined_rating|\n",
      "+-------+-------+-----------------------+--------------------+----------------------------+------------------------+-----------------------+-------------------------+-----------------------+\n",
      "|  20396|   5785|              3.3563235|                4.85|                   4.0764475|               3.7865183|              3.5144548|                3.9560137|     3.7180016160011293|\n",
      "|  32554|  36270|               3.210523|  3.5999999999999996|                   3.6166172|                3.058903|               3.666088|                 3.368969|     3.3366769433021544|\n",
      "|  13795|   2626|              3.4066162|                3.75|                   3.4236102|               3.2101352|              2.9296913|                3.6166346|      3.360486197471619|\n",
      "|   5457|   1664|              3.5187807|               3.325|                   3.5480886|               3.1844957|              2.9596195|                3.5020728|       3.36596794128418|\n",
      "|  15634|  25852|               4.192551|                4.25|                   4.2459044|               3.8551025|              4.1548696|                3.8633833|      4.025994157791138|\n",
      "|   7359|   3558|              3.8793697|  3.7750000000000004|                   3.7901583|               3.7895896|              3.4363678|                4.1896667|     3.8791313767433167|\n",
      "|  11450|   6549|              3.8602505|  4.2749999999999995|                   4.0088763|               3.9002056|               3.900102|                 3.914893|      3.905474531650543|\n",
      "|  11450|   6549|              3.8602505|  4.2749999999999995|                   4.0088763|               3.9002056|               3.900102|                 3.914893|      3.905474531650543|\n",
      "|  11450|   6549|              3.8602505|  4.2749999999999995|                   4.0088763|               3.9002056|               3.900102|                 3.914893|      3.905474531650543|\n",
      "|  11450|   6549|              3.8602505|  4.2749999999999995|                   4.0088763|               3.9002056|               3.900102|                 3.914893|      3.905474531650543|\n",
      "|  11450|   6549|              3.8602505|  4.2749999999999995|                   4.0088763|               3.9002056|               3.900102|                 3.914893|      3.905474531650543|\n",
      "|  11450|   6549|              3.8602505|  4.2749999999999995|                   4.0088763|               3.9002056|               3.900102|                 3.914893|      3.905474531650543|\n",
      "|  11450|   6549|              3.8602505|  4.2749999999999995|                   4.0088763|               3.9002056|               3.900102|                 3.914893|      3.905474531650543|\n",
      "|  11450|   6549|              3.8602505|  4.2749999999999995|                   4.0088763|               3.9002056|               3.900102|                 3.914893|      3.905474531650543|\n",
      "|  11450|   6549|              3.8602505|  4.2749999999999995|                   4.0088763|               3.9002056|               3.900102|                 3.914893|      3.905474531650543|\n",
      "|  11450|   6549|              3.8602505|  4.2749999999999995|                   4.0088763|               3.9002056|               3.900102|                 3.914893|      3.905474531650543|\n",
      "|  11450|   6549|              3.8602505|  4.2749999999999995|                   4.0088763|               3.9002056|               3.900102|                 3.914893|      3.905474531650543|\n",
      "|  11450|   6549|              3.8602505|  4.2749999999999995|                   4.0088763|               3.9002056|               3.900102|                 3.914893|      3.905474531650543|\n",
      "|  11450|   6549|              3.8602505|  4.2749999999999995|                   4.0088763|               3.9002056|               3.900102|                 3.914893|      3.905474531650543|\n",
      "|  11450|   6549|              3.8602505|  4.2749999999999995|                   4.0088763|               3.9002056|               3.900102|                 3.914893|      3.905474531650543|\n",
      "+-------+-------+-----------------------+--------------------+----------------------------+------------------------+-----------------------+-------------------------+-----------------------+\n",
      "only showing top 20 rows\n",
      "\n"
     ]
    }
   ],
   "source": [
    "from ml_models import MultiCriteriaALSModel\n",
    "review_weight = {\n",
    "    'review_taste': 0.25,\n",
    "    'review_appearance': 0.1,\n",
    "    'review_palate': 0.2,\n",
    "    'review_aroma': 0.15,\n",
    "    'review_overall': 0.3\n",
    "}\n",
    "\n",
    "model = MultiCriteriaALSModel(\n",
    "    'user_id', \n",
    "    'beer_id', \n",
    "    review_weight\n",
    ")\n",
    "\n",
    "model.fit(training)\n",
    "prediction = model.transform(test)\n",
    "prediction.show()\n",
    "\n"
   ]
  },
  {
   "cell_type": "code",
   "execution_count": 5,
   "metadata": {},
   "outputs": [
    {
     "name": "stdout",
     "output_type": "stream",
     "text": [
      "+-------+-------+-----------------------+--------------------+\n",
      "|user_id|beer_id|predict_combined_rating|init_combined_rating|\n",
      "+-------+-------+-----------------------+--------------------+\n",
      "|  20396|   5785|     3.7180016160011293|                4.85|\n",
      "|  32554|  36270|     3.3366769433021544|  3.5999999999999996|\n",
      "|  13795|   2626|      3.360486197471619|                3.75|\n",
      "|   5457|   1664|       3.36596794128418|               3.325|\n",
      "|  15634|  25852|      4.025994157791138|                4.25|\n",
      "|   7359|   3558|     3.8791313767433167|  3.7750000000000004|\n",
      "|  11450|   6549|      3.905474531650543|  4.2749999999999995|\n",
      "|  11450|   6549|      3.905474531650543|  4.2749999999999995|\n",
      "|  11450|   6549|      3.905474531650543|  4.2749999999999995|\n",
      "|  11450|   6549|      3.905474531650543|  4.2749999999999995|\n",
      "|  11450|   6549|      3.905474531650543|  4.2749999999999995|\n",
      "|  11450|   6549|      3.905474531650543|  4.2749999999999995|\n",
      "|  11450|   6549|      3.905474531650543|  4.2749999999999995|\n",
      "|  11450|   6549|      3.905474531650543|  4.2749999999999995|\n",
      "|  11450|   6549|      3.905474531650543|  4.2749999999999995|\n",
      "|  11450|   6549|      3.905474531650543|  4.2749999999999995|\n",
      "|  11450|   6549|      3.905474531650543|  4.2749999999999995|\n",
      "|  11450|   6549|      3.905474531650543|  4.2749999999999995|\n",
      "|  11450|   6549|      3.905474531650543|  4.2749999999999995|\n",
      "|  11450|   6549|      3.905474531650543|  4.2749999999999995|\n",
      "+-------+-------+-----------------------+--------------------+\n",
      "only showing top 20 rows\n",
      "\n"
     ]
    }
   ],
   "source": [
    "prediction.select('user_id', 'beer_id', 'predict_combined_rating', 'init_combined_rating').show()"
   ]
  },
  {
   "cell_type": "code",
   "execution_count": null,
   "metadata": {},
   "outputs": [],
   "source": [
    "# model.recommendForUser(11151, 5).show()"
   ]
  }
 ],
 "metadata": {
  "kernelspec": {
   "display_name": "venv",
   "language": "python",
   "name": "python3"
  },
  "language_info": {
   "codemirror_mode": {
    "name": "ipython",
    "version": 3
   },
   "file_extension": ".py",
   "mimetype": "text/x-python",
   "name": "python",
   "nbconvert_exporter": "python",
   "pygments_lexer": "ipython3",
   "version": "3.9.6"
  }
 },
 "nbformat": 4,
 "nbformat_minor": 2
}
