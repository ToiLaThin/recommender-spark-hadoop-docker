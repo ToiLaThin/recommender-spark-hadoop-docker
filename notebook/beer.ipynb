{
 "cells": [
  {
   "cell_type": "code",
   "execution_count": 1,
   "metadata": {},
   "outputs": [
    {
     "data": {
      "text/html": [
       "\n",
       "            <div>\n",
       "                <p><b>SparkSession - in-memory</b></p>\n",
       "                \n",
       "        <div>\n",
       "            <p><b>SparkContext</b></p>\n",
       "\n",
       "            <p><a href=\"http://kubernetes.docker.internal:4040\">Spark UI</a></p>\n",
       "\n",
       "            <dl>\n",
       "              <dt>Version</dt>\n",
       "                <dd><code>v3.5.0</code></dd>\n",
       "              <dt>Master</dt>\n",
       "                <dd><code>local[*]</code></dd>\n",
       "              <dt>AppName</dt>\n",
       "                <dd><code>ALS</code></dd>\n",
       "            </dl>\n",
       "        </div>\n",
       "        \n",
       "            </div>\n",
       "        "
      ],
      "text/plain": [
       "<pyspark.sql.session.SparkSession at 0x285ffb480a0>"
      ]
     },
     "execution_count": 1,
     "metadata": {},
     "output_type": "execute_result"
    }
   ],
   "source": [
    "import findspark\n",
    "findspark.init('D:\\Hadoop_Ecosystem\\spark-3.5.0-bin-hadoop3')\n",
    "\n",
    "from pyspark import SparkContext\n",
    "from pyspark.sql import SparkSession\n",
    "\n",
    "sc = SparkContext(appName=\"ALS\").getOrCreate()\n",
    "sc.setLogLevel(\"ERROR\")\n",
    "\n",
    "ss = SparkSession(sc)\n",
    "ss"
   ]
  },
  {
   "cell_type": "code",
   "execution_count": 2,
   "metadata": {},
   "outputs": [
    {
     "data": {
      "text/plain": [
       "33387"
      ]
     },
     "execution_count": 2,
     "metadata": {},
     "output_type": "execute_result"
    }
   ],
   "source": [
    "# TODO change the path to another path since beer_reviews.csv is moved to another folder\n",
    "df_beer = ss.read.csv('beer_reviews.csv',inferSchema=True,header=True)\n",
    "df_beer = df_beer.select([\n",
    "    'beer_beerid', \n",
    "    'review_taste', \n",
    "    'review_appearance', \n",
    "    'review_palate', \n",
    "    'review_aroma', \n",
    "    'review_overall', \n",
    "    'review_profilename'\n",
    "])\n",
    "df_beer = df_beer.withColumnRenamed('beer_beerid', 'beer_id')\n",
    "df_beer = df_beer.withColumnRenamed('review_profilename', 'user_id')\n",
    "df_beer = df_beer.dropna()\n",
    "\n",
    "#convert to pandas dataframe\n",
    "df_beer = df_beer.toPandas()\n",
    "df_beer['user_id'] = df_beer['user_id'].astype('category').cat.codes #each username is converted to a unique number\n",
    "\n",
    "#convert back to spark dataframe\n",
    "df_beer = ss.createDataFrame(df_beer)\n",
    "df_beer.select('user_id').distinct().count()"
   ]
  },
  {
   "cell_type": "code",
   "execution_count": 3,
   "metadata": {},
   "outputs": [],
   "source": [
    "(training, test) = df_beer.randomSplit([0.8, 0.2])"
   ]
  },
  {
   "cell_type": "code",
   "execution_count": 4,
   "metadata": {},
   "outputs": [
    {
     "name": "stdout",
     "output_type": "stream",
     "text": [
      "+-------+-------+-----------------------+--------------------+----------------------------+------------------------+-----------------------+-------------------------+-----------------------+\n",
      "|user_id|beer_id|prediction_review_taste|init_combined_rating|prediction_review_appearance|prediction_review_palate|prediction_review_aroma|prediction_review_overall|predict_combined_rating|\n",
      "+-------+-------+-----------------------+--------------------+----------------------------+------------------------+-----------------------+-------------------------+-----------------------+\n",
      "|  22107|    276|               3.551606|                4.15|                   3.6876032|               3.5517986|              3.3905306|                3.6639833|     3.5747961163520814|\n",
      "|  17193|  17538|               4.053382|               4.675|                    3.908098|               3.8911304|               4.160838|                3.7921162|     3.9441419363021852|\n",
      "|  11402|   7463|              3.9573524|  3.7750000000000004|                   3.7099686|                3.624668|               3.798737|                 3.530583|     3.7142539620399475|\n",
      "|  19063|  10572|              4.2724895|               3.925|                     4.17789|               4.0373564|              4.1209064|                3.9443944|      4.094836902618408|\n",
      "|   5457|    279|                3.60401|  3.7750000000000004|                    3.843503|               3.6968715|               3.726101|                3.7592902|     3.7114293336868283|\n",
      "|  18174|  51257|              5.2066627|                4.85|                    4.819342|               4.7931647|              4.5364895|                 4.806066|     4.8645260572433475|\n",
      "|  16032|  25144|               3.038763|                 3.0|                   3.5965734|               3.3174236|              3.1004066|                3.2928724|     3.2357555389404298|\n",
      "|  17253|  63152|                4.18925|               4.225|                    4.416178|               3.6233478|                3.92261|                 4.072859|      4.023849022388458|\n",
      "|   7359|   3558|              3.8710263|  3.7750000000000004|                    3.751926|               3.8683171|              3.5375018|                4.1622143|      3.895902144908905|\n",
      "|  11450|   6549|              4.0136337|                 4.2|                    4.093781|               4.0468216|              4.0559883|                 4.089423|      4.057376050949096|\n",
      "|  20573|  30353|               2.864288|  3.1500000000000004|                   2.3213592|               3.4975069|              3.1635718|                3.9116788|     3.2957487225532534|\n",
      "|  13371|  30420|               4.087937|                4.15|                    4.076681|                3.842667|              3.3304548|                 3.556562|     3.7647225618362428|\n",
      "|  25235|  44188|               4.001384|               3.625|                   3.9221487|               3.6880682|                4.17801|                4.0272803|     3.9650600433349608|\n",
      "|  16969|   3824|              3.6558142|                3.75|                   3.6268027|               3.5915363|              3.5790997|                 3.453843|      3.567958950996399|\n",
      "|   5759|   5441|              3.9847412|               3.825|                   4.0951777|               4.0427976|               4.023415|                 4.239425|      4.089602398872375|\n",
      "|  14266|   7348|              4.4358006|                 4.0|                    4.200588|                4.368948|               4.282551|                 4.426881|      4.373245429992676|\n",
      "|   1235|  62432|              3.9079223|                 4.0|                   3.9191766|                3.695771|              3.8809197|                3.7436442|       3.81328364610672|\n",
      "|  12882|  16074|              3.8088853|               3.925|                   3.9785495|               3.7198634|              3.8381577|                3.9975479|     3.8690369725227356|\n",
      "|   2601|  18898|              3.1720228|                 4.0|                   3.7486308|               4.3608694|              3.4368224|                 4.267007|     3.8356680870056152|\n",
      "|  16253|   1504|              4.3753476|               3.925|                   3.7419465|               4.3692164|              4.4389176|                3.7116637|       4.12121160030365|\n",
      "+-------+-------+-----------------------+--------------------+----------------------------+------------------------+-----------------------+-------------------------+-----------------------+\n",
      "only showing top 20 rows\n",
      "\n"
     ]
    }
   ],
   "source": [
    "from ml_models import MultiCriteriaALSModel\n",
    "review_weight = {\n",
    "    'review_taste': 0.25,\n",
    "    'review_appearance': 0.1,\n",
    "    'review_palate': 0.2,\n",
    "    'review_aroma': 0.15,\n",
    "    'review_overall': 0.3\n",
    "}\n",
    "\n",
    "model = MultiCriteriaALSModel(\n",
    "    'user_id', \n",
    "    'beer_id', \n",
    "    review_weight\n",
    ")\n",
    "\n",
    "model.fit(training)\n",
    "prediction = model.transform(test)\n",
    "prediction.show()\n",
    "\n"
   ]
  },
  {
   "cell_type": "code",
   "execution_count": null,
   "metadata": {},
   "outputs": [],
   "source": [
    "prediction.select('user_id', 'beer_id', 'predict_combined_rating', 'init_combined_rating').show()"
   ]
  },
  {
   "cell_type": "code",
   "execution_count": null,
   "metadata": {},
   "outputs": [],
   "source": [
    "model.recommendForUser(11151, 5).show()"
   ]
  },
  {
   "cell_type": "code",
   "execution_count": 5,
   "metadata": {},
   "outputs": [
    {
     "name": "stdout",
     "output_type": "stream",
     "text": [
      "+-------+--------------------+--------------------+\n",
      "|user_id|               items|             ratings|\n",
      "+-------+--------------------+--------------------+\n",
      "|      0|[42587, 10325, 22...|[3.56320463418960...|\n",
      "|      7|         [135, 4700]|[4.09011514186859...|\n",
      "|     25|[35409, 41899, 21...|[4.3664311170578,...|\n",
      "|     26|      [73427, 50235]|[4.66140935420989...|\n",
      "|     29|   [99, 42353, 8998]|[3.95344327688217...|\n",
      "|     32|               [276]|[3.1124522805213926]|\n",
      "|     57|[53913, 36185, 57...|[3.07213504314422...|\n",
      "|     68|               [848]| [2.669730496406555]|\n",
      "|     71|[1128, 727, 782, ...|[4.05605328083038...|\n",
      "|     84|              [1745]| [3.867021989822388]|\n",
      "|     95|              [6499]|[1.4767994821071624]|\n",
      "|    116|       [3432, 30840]|[4.36471152305603...|\n",
      "|    119|        [2684, 2093]|[3.76931705474853...|\n",
      "|    126|[60780, 41778, 52...|[3.71307334899902...|\n",
      "|    136|[36727, 808, 1042...|[3.69951361417770...|\n",
      "|    145|[1658, 29145, 568...|[3.92948464155197...|\n",
      "|    157|[13, 1460, 959, 7...|[2.97020686864852...|\n",
      "|    184|              [6108]| [4.291809988021851]|\n",
      "|    188|[2811, 3297, 1330...|[3.44862746000289...|\n",
      "|    190|[29015, 2354, 346...|[3.06677116155624...|\n",
      "+-------+--------------------+--------------------+\n",
      "only showing top 20 rows\n",
      "\n"
     ]
    }
   ],
   "source": [
    "model.recommendForAllUsers(5).show()"
   ]
  }
 ],
 "metadata": {
  "kernelspec": {
   "display_name": "venv",
   "language": "python",
   "name": "python3"
  },
  "language_info": {
   "codemirror_mode": {
    "name": "ipython",
    "version": 3
   },
   "file_extension": ".py",
   "mimetype": "text/x-python",
   "name": "python",
   "nbconvert_exporter": "python",
   "pygments_lexer": "ipython3",
   "version": "3.9.6"
  }
 },
 "nbformat": 4,
 "nbformat_minor": 2
}
