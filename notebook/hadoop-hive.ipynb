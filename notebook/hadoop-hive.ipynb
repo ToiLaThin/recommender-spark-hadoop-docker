{
 "cells": [
  {
   "cell_type": "code",
   "execution_count": 1,
   "metadata": {},
   "outputs": [
    {
     "data": {
      "text/html": [
       "\n",
       "            <div>\n",
       "                <p><b>SparkSession - hive</b></p>\n",
       "                \n",
       "        <div>\n",
       "            <p><b>SparkContext</b></p>\n",
       "\n",
       "            <p><a href=\"http://kubernetes.docker.internal:4040\">Spark UI</a></p>\n",
       "\n",
       "            <dl>\n",
       "              <dt>Version</dt>\n",
       "                <dd><code>v3.5.0</code></dd>\n",
       "              <dt>Master</dt>\n",
       "                <dd><code>spark://localhost:7077</code></dd>\n",
       "              <dt>AppName</dt>\n",
       "                <dd><code>Transform</code></dd>\n",
       "            </dl>\n",
       "        </div>\n",
       "        \n",
       "            </div>\n",
       "        "
      ],
      "text/plain": [
       "<pyspark.sql.session.SparkSession at 0x291ea92d190>"
      ]
     },
     "execution_count": 1,
     "metadata": {},
     "output_type": "execute_result"
    }
   ],
   "source": [
    "from pyspark import SparkConf\n",
    "from pyspark.sql import SparkSession\n",
    "import findspark\n",
    "findspark.init('D:\\Hadoop_Ecosystem\\spark-3.5.0-bin-hadoop3')\n",
    "\n",
    "\n",
    "master = \"spark://localhost:7077\"\n",
    "\n",
    "conf = (\n",
    "    SparkConf()\n",
    "    .setAppName(\"Transform\")\n",
    "    .setMaster(master)\n",
    "    .set(\"spark.hadoop.hive.metastore.uris\", \"thrift://localhost:9880\")\n",
    "    .set(\"spark.sql.warehouse.dir\", \"hdfs://localhost:9000/hive/warehouse\")\n",
    "    .set(\"spark.memory.offHeap.enabled\", \"true\")\n",
    "    .set(\"spark.memory.offHeap.size\", \"10g\")\n",
    "    .set(\"spark.executor.memory\", \"4g\")\n",
    "    .set(\"hive.exec.dynamic.partition\", \"true\")\n",
    "    .set(\"hive.exec.dynamic.partition.mode\", \"nonstrict\")\n",
    "    .set(\"spark.sql.session.timeZone\", \"UTC+7\")\n",
    "    .set(\"spark.network.timeout\", \"50000\")\n",
    "    .set(\"spark.executor.heartbeatInterval\", \"5000\")\n",
    "    .set(\"spark.worker.timeout\", \"5000\")\n",
    ")\n",
    "\n",
    "ss = (\n",
    "    SparkSession.builder.config(conf=conf)\n",
    "    .enableHiveSupport()\n",
    "    .getOrCreate()\n",
    ")\n",
    "ss"
   ]
  },
  {
   "cell_type": "code",
   "execution_count": 2,
   "metadata": {},
   "outputs": [],
   "source": [
    "file_name = 'beer_reviews_transformed.csv'\n",
    "# then copy this file to /mnt/namenode in HadoopDocker cluster, this is mapped to /data in the container\n",
    "# then copy this file to hdfs\n",
    "df_beer = ss.read.csv('beer_reviews.csv',inferSchema=True,header=True)\n",
    "df_beer = df_beer.select([\n",
    "    'beer_beerid', \n",
    "    'review_taste', \n",
    "    'review_appearance', \n",
    "    'review_palate', \n",
    "    'review_aroma', \n",
    "    'review_overall', \n",
    "    'review_profilename'\n",
    "])\n",
    "df_beer = df_beer.withColumnRenamed('beer_beerid', 'beer_id')\n",
    "df_beer = df_beer.withColumnRenamed('review_profilename', 'user_id')\n",
    "df_beer = df_beer.dropna()\n",
    "\n",
    "#convert to pandas dataframe\n",
    "df_beer = df_beer.toPandas()\n",
    "df_beer['user_id'] = df_beer['user_id'].astype('category').cat.codes #each username is converted to a unique number\n",
    "df_beer.to_csv(file_name, index=False)"
   ]
  },
  {
   "cell_type": "code",
   "execution_count": null,
   "metadata": {},
   "outputs": [],
   "source": [
    "from hdfs import InsecureClient\n",
    "\n",
    "namenode_url = 'http://localhost:9870'\n",
    "local_folder = './' + file_name\n",
    "print(local_folder)\n",
    "hdfs_client = InsecureClient(namenode_url, user='root')\n",
    "test_folder = '/test'\n",
    "# Create a new directory\n",
    "if not hdfs_client.content(test_folder, strict=False):\n",
    "    hdfs_client.makedirs(test_folder)\n",
    "    print('Created directory {}'.format(test_folder))\n",
    "    print(\"Before upload\")\n",
    "    print(hdfs_client.list(test_folder, status=False))\n",
    "# Upload file to hdfs\n",
    "hdfs_client.upload(test_folder, local_folder, overwrite=True)\n",
    "print(\"After upload\")\n",
    "print(hdfs_client.list(test_folder, status=False))\n",
    "delete_result = hdfs_client.delete(test_folder, recursive=True)\n",
    "print(delete_result)"
   ]
  }
 ],
 "metadata": {
  "kernelspec": {
   "display_name": "venv",
   "language": "python",
   "name": "python3"
  },
  "language_info": {
   "codemirror_mode": {
    "name": "ipython",
    "version": 3
   },
   "file_extension": ".py",
   "mimetype": "text/x-python",
   "name": "python",
   "nbconvert_exporter": "python",
   "pygments_lexer": "ipython3",
   "version": "3.9.6"
  }
 },
 "nbformat": 4,
 "nbformat_minor": 2
}
